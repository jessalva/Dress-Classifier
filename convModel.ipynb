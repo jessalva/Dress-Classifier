{
 "cells": [
  {
   "cell_type": "code",
   "execution_count": 2,
   "metadata": {
    "collapsed": true
   },
   "outputs": [
    {
     "name": "stderr",
     "output_type": "stream",
     "text": [
      "/home/jessal/anaconda3/lib/python3.6/site-packages/h5py/__init__.py:34: FutureWarning: Conversion of the second argument of issubdtype from `float` to `np.floating` is deprecated. In future, it will be treated as `np.float64 == np.dtype(float).type`.\n  from ._conv import register_converters as _register_converters\nUsing TensorFlow backend.\n"
     ]
    }
   ],
   "source": [
    "from keras.preprocessing.image import ImageDataGenerator\n",
    "from keras.models import Model,Input\n",
    "from keras.layers import Conv2D,MaxPool2D,Dense,Dropout,BatchNormalization,ZeroPadding2D,Activation,Flatten,initializers\n",
    "from keras import regularizers\n",
    "import numpy as np\n",
    "from sklearn.metrics import roc_auc_score"
   ]
  },
  {
   "cell_type": "code",
   "execution_count": 3,
   "metadata": {},
   "outputs": [
    {
     "name": "stdout",
     "output_type": "stream",
     "text": [
      "Found 1136 images belonging to 3 classes.\nFound 126 images belonging to 3 classes.\n"
     ]
    }
   ],
   "source": [
    "train_datagen = ImageDataGenerator(rescale=1./255,shear_range=0.2,zoom_range=0.2,horizontal_flip=True)\n",
    "traingenerator = train_datagen.flow_from_directory('./preprocessed/Train/',batch_size=32,target_size=(224,224),class_mode='categorical')\n",
    "\n",
    "test_datagen = ImageDataGenerator(rescale=1./255)\n",
    "testgenerator = train_datagen.flow_from_directory('./preprocessed/Test/',batch_size=32,target_size=(224,224),class_mode='categorical')\n"
   ]
  },
  {
   "cell_type": "code",
   "execution_count": 4,
   "metadata": {},
   "outputs": [],
   "source": [
    "def create_model(input_shape,filter):\n",
    "    X = Input(input_shape)\n",
    "    \n",
    "    X_input = X\n",
    "    F1,F2,F3,F4 = filter\n",
    "    \n",
    "    conv = 'conv_layer'\n",
    "    batchnorm = 'batch_norm'\n",
    "    maxpool = 'maxpool'\n",
    "    \n",
    "    X = ZeroPadding2D((2,2))(X)\n",
    "    X = Conv2D(F1,(11,11),strides=4,name=conv+'1',kernel_initializer=initializers.glorot_uniform(seed=0),kernel_regularizer=regularizers.l2())(X)                                                                                                                                                                                                                                                                                                                                                                                                                                                                                                                                                                                                                                                                                                                                                                                                                                                                                                                                                                                                                                                                                                                                                                                                                                                                                                                                                                                                                                                                                                                                                                                               \n",
    "    X = BatchNormalization(axis=3,name=batchnorm+'1',gamma_regularizer=regularizers.l2(),beta_regularizer=regularizers.l2())(X)\n",
    "    X = Activation('relu')(X)\n",
    "    X = MaxPool2D((3,3),strides=2,name=maxpool+'1')(X)                                                                                                                                                                                                                                                                                                                                                                                                                                                                                                                                                                                                                                                                                                                                                                                                                                                                                                                                                                                                                                                                                                                                                                                                                                                                                                                                                                                                                                                                                                                                                                                                                                                                                                                                                                                     \n",
    "                                                                                                                                                                                                                                                                                                                                                                                                                                                                                                                                                                                                                                                                                                                                                                                                                                                                                                                                                                                                                                                                                                                                                                                                                                                                                                                                                                                                                                                                                                                                                                                                                                                                                                                                                                                            \n",
    "    X = Conv2D(F2,(7,7),name=conv+'2',kernel_initializer=initializers.glorot_uniform(seed=0),kernel_regularizer=regularizers.l2())(X)                                                                                                                                                                                                                                                                                                                                                                                                                                                                                                                                                                                                                                                                                                                                                                                                                                                                                                                                                                                                                                                                                                                                                                                                                                                                                                                                                                                                                                                                                                                                                                                                                                                                                                                                                                                        \n",
    "    X = BatchNormalization(axis=3,name=batchnorm+'2',gamma_regularizer=regularizers.l2(),beta_regularizer=regularizers.l2())(X)\n",
    "    X = Activation('relu')(X)\n",
    "    X = MaxPool2D((3,3),strides=2,name=maxpool+'2')(X)\n",
    "    \n",
    "    X = Conv2D(F3,(5,5),name=conv+'3',kernel_initializer=initializers.glorot_uniform(seed=0),kernel_regularizer=regularizers.l2())(X)\n",
    "    X = BatchNormalization(axis=3,name=batchnorm+'3',gamma_regularizer=regularizers.l2(),beta_regularizer=regularizers.l2())(X)\n",
    "    X = Activation('relu')(X)\n",
    "    \n",
    "    X = MaxPool2D((3,3),strides=2,name=maxpool+'4')(X)\n",
    "    \n",
    "    X = Flatten()(X)\n",
    "    X = Dense(100,activation='relu')(X)\n",
    "    X = Dropout(0.5)(X)\n",
    "    \n",
    "    X = Dense(50,activation='relu')(X)\n",
    "    X = Dropout(0.5)(X)\n",
    "    \n",
    "    X = Dense(3,activation='softmax')(X)\n",
    "    \n",
    "    model = Model(inputs=X_input,outputs=X,name='AlexNet')\n",
    "    return model"
   ]
  },
  {
   "cell_type": "code",
   "execution_count": 5,
   "metadata": {
    "collapsed": true
   },
   "outputs": [
    {
     "name": "stdout",
     "output_type": "stream",
     "text": [
      "_________________________________________________________________\nLayer (type)                 Output Shape              Param #   \n=================================================================\ninput_1 (InputLayer)         (None, 224, 224, 3)       0         \n_________________________________________________________________\nzero_padding2d_1 (ZeroPaddin (None, 228, 228, 3)       0         \n_________________________________________________________________\nconv_layer1 (Conv2D)         (None, 55, 55, 96)        34944     \n_________________________________________________________________\nbatch_norm1 (BatchNormalizat (None, 55, 55, 96)        384       \n_________________________________________________________________\nactivation_1 (Activation)    (None, 55, 55, 96)        0         \n_________________________________________________________________\nmaxpool1 (MaxPooling2D)      (None, 27, 27, 96)        0         \n_________________________________________________________________\nconv_layer2 (Conv2D)         (None, 21, 21, 256)       1204480   \n_________________________________________________________________\nbatch_norm2 (BatchNormalizat (None, 21, 21, 256)       1024      \n_________________________________________________________________\nactivation_2 (Activation)    (None, 21, 21, 256)       0         \n_________________________________________________________________\nmaxpool2 (MaxPooling2D)      (None, 10, 10, 256)       0         \n_________________________________________________________________\nconv_layer3 (Conv2D)         (None, 6, 6, 384)         2457984   \n_________________________________________________________________\nbatch_norm3 (BatchNormalizat (None, 6, 6, 384)         1536      \n_________________________________________________________________\nactivation_3 (Activation)    (None, 6, 6, 384)         0         \n_________________________________________________________________\nmaxpool4 (MaxPooling2D)      (None, 2, 2, 384)         0         \n_________________________________________________________________\nflatten_1 (Flatten)          (None, 1536)              0         \n_________________________________________________________________\ndense_1 (Dense)              (None, 100)               153700    \n_________________________________________________________________\ndropout_1 (Dropout)          (None, 100)               0         \n_________________________________________________________________\ndense_2 (Dense)              (None, 50)                5050      \n_________________________________________________________________\ndropout_2 (Dropout)          (None, 50)                0         \n_________________________________________________________________\ndense_3 (Dense)              (None, 3)                 153       \n=================================================================\nTotal params: 3,859,255\nTrainable params: 3,857,783\nNon-trainable params: 1,472\n_________________________________________________________________\n"
     ]
    }
   ],
   "source": [
    "filtersize = [96,256,384,256]\n",
    "model = create_model((224,224,3),filtersize) \n",
    "model.summary()"
   ]
  },
  {
   "cell_type": "code",
   "execution_count": 1,
   "metadata": {
    "collapsed": false
   },
   "outputs": [
    {
     "ename": "NameError",
     "evalue": "name 'model' is not defined",
     "traceback": [
      "\u001b[0;31m---------------------------------------------------------------------------\u001b[0m",
      "\u001b[0;31mNameError\u001b[0m                                 Traceback (most recent call last)",
      "\u001b[0;32m<ipython-input-1-10903eb5ae73>\u001b[0m in \u001b[0;36m<module>\u001b[0;34m()\u001b[0m\n\u001b[0;32m----> 1\u001b[0;31m \u001b[0mmodel\u001b[0m\u001b[0;34m.\u001b[0m\u001b[0mcompile\u001b[0m\u001b[0;34m(\u001b[0m\u001b[0moptimizer\u001b[0m\u001b[0;34m=\u001b[0m\u001b[0;34m'adam'\u001b[0m\u001b[0;34m,\u001b[0m\u001b[0mloss\u001b[0m\u001b[0;34m=\u001b[0m\u001b[0;34m'categorical_crossentropy'\u001b[0m\u001b[0;34m,\u001b[0m\u001b[0mmetrics\u001b[0m\u001b[0;34m=\u001b[0m\u001b[0;34m[\u001b[0m\u001b[0;34m'accuracy'\u001b[0m\u001b[0;34m]\u001b[0m\u001b[0;34m)\u001b[0m\u001b[0;34m\u001b[0m\u001b[0m\n\u001b[0m\u001b[1;32m      2\u001b[0m \u001b[0mmodel\u001b[0m\u001b[0;34m.\u001b[0m\u001b[0mfit_generator\u001b[0m\u001b[0;34m(\u001b[0m\u001b[0mtraingenerator\u001b[0m\u001b[0;34m,\u001b[0m\u001b[0mepochs\u001b[0m\u001b[0;34m=\u001b[0m\u001b[0;36m3\u001b[0m\u001b[0;34m,\u001b[0m\u001b[0mvalidation_data\u001b[0m\u001b[0;34m=\u001b[0m\u001b[0mtestgenerator\u001b[0m\u001b[0;34m,\u001b[0m\u001b[0mshuffle\u001b[0m\u001b[0;34m=\u001b[0m\u001b[0;32mTrue\u001b[0m\u001b[0;34m)\u001b[0m\u001b[0;34m\u001b[0m\u001b[0m\n",
      "\u001b[0;31mNameError\u001b[0m: name 'model' is not defined"
     ],
     "output_type": "error"
    }
   ],
   "source": [
    "model.compile(optimizer='adam',loss='categorical_crossentropy',metrics=['accuracy'])\n",
    "model.fit_generator(traingenerator,epochs=3,validation_data=testgenerator,shuffle=True)"
   ]
  },
  {
   "cell_type": "code",
   "execution_count": 6,
   "metadata": {},
   "outputs": [],
   "source": [
    ""
   ]
  },
  {
   "cell_type": "code",
   "execution_count": null,
   "metadata": {},
   "outputs": [],
   "source": []
  }
 ],
 "metadata": {
  "kernelspec": {
   "display_name": "Python 2",
   "language": "python",
   "name": "python2"
  },
  "language_info": {
   "codemirror_mode": {
    "name": "ipython",
    "version": 2
   },
   "file_extension": ".py",
   "mimetype": "text/x-python",
   "name": "python",
   "nbconvert_exporter": "python",
   "pygments_lexer": "ipython2",
   "version": "2.7.6"
  }
 },
 "nbformat": 4,
 "nbformat_minor": 0
}
